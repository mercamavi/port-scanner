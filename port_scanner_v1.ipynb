{
 "cells": [
  {
   "cell_type": "markdown",
   "metadata": {},
   "source": [
    "\n",
    "# PORT SCANNER "
   ]
  },
  {
   "cell_type": "markdown",
   "metadata": {},
   "source": [
    "A port scanner is a valuable tool that hackers use to perform reiconnansse\n",
    "of your network to find a point of entry to the system. On the other hand,\n",
    "cybersecurity engineers use it to found open ports and close them before \n",
    "malicious actors attack. In this project I construct a simple port scanner with python.\n",
    "\n",
    "But First, a little networking review:\n",
    "In order to cummunicate with each other in a network ,computers are identified with an IP ADDRESS.\n",
    "As multiple applications are running in a computer , a PORT is required to identify them according\n",
    "to the service they perfom. Additionally it is neccesary a PROTOCOL to define the rules for that \n",
    "communication.In this way appears the concept of SOCKET that is a software entity created at each \n",
    "side(computer) of the communication link and composed of protocol,Ip Address and Port.\n",
    "\n",
    "When an application in one computer communicate with a remote computer a Socket is created in each side.\n",
    "If the requiered PORT is closed in one side and you try to connect with it then a malfunction occurr in\n",
    "the communication. This program uses python library called \"socket\" to connect to the port, if the port is\n",
    "closed then an Exception is generated.This way you can identify when the port is closed or not."
   ]
  },
  {
   "cell_type": "markdown",
   "metadata": {},
   "source": [
    "### THIS CODE IS ONLY FOR EDUCATIONAL PURPOSE. DO NOT USE IT TO CAUSE HARM TO OTHERS.\n",
    "### USE ONLY IN YOUR HOME VIRTUAL LAB. ### DO DOT RUN AGAINST OTHER COMPUTERS."
   ]
  },
  {
   "cell_type": "code",
   "execution_count": 1,
   "metadata": {},
   "outputs": [],
   "source": [
    "import sys\n",
    "import socket"
   ]
  },
  {
   "cell_type": "code",
   "execution_count": 2,
   "metadata": {},
   "outputs": [],
   "source": [
    "#inputs\n",
    "ip_address= \"10.0.0.171\"   # IP addres of the machine to scan\n",
    "start_port=130             # Start of the port range to scan\n",
    "end_port=140               # End of the port range to scan"
   ]
  },
  {
   "cell_type": "code",
   "execution_count": 3,
   "metadata": {},
   "outputs": [],
   "source": [
    "#skt=socket.socket()        # Create object skt ,our socket.\n",
    "#opened_ports=[]            # List of open ports resulted of the scan\n"
   ]
  },
  {
   "cell_type": "code",
   "execution_count": 4,
   "metadata": {},
   "outputs": [],
   "source": [
    "# funtion to scan the ports since star_port to end_port\n",
    "\n",
    "def scan_ports(ip_address,start_port,end_port):\n",
    "    closed_ports=0                                # Number of ports closed\n",
    "    opened_ports=[] \n",
    "    for port in range(start_port,end_port+1):\n",
    "        skt=socket.socket()         \n",
    "        print('Scanning:',port)\n",
    "        try:\n",
    "            skt.connect((ip_address,port))\n",
    "            opened_ports.append(port)\n",
    "        except:\n",
    "            closed_ports+=1\n",
    "            pass\n",
    "    skt.close()   \n",
    "    return closed_ports, opened_ports\n",
    "            \n",
    "        \n",
    "    "
   ]
  },
  {
   "cell_type": "code",
   "execution_count": 5,
   "metadata": {
    "scrolled": true
   },
   "outputs": [
    {
     "name": "stdout",
     "output_type": "stream",
     "text": [
      "Scanning: 130\n",
      "Scanning: 131\n",
      "Scanning: 132\n",
      "Scanning: 133\n",
      "Scanning: 134\n",
      "Scanning: 135\n",
      "Scanning: 136\n",
      "Scanning: 137\n",
      "Scanning: 138\n",
      "Scanning: 139\n",
      "Scanning: 140\n"
     ]
    }
   ],
   "source": [
    "# start the scan\n",
    "clo_por,ope_por=scan_ports (ip_address,start_port,end_port)\n"
   ]
  },
  {
   "cell_type": "code",
   "execution_count": 6,
   "metadata": {
    "scrolled": true
   },
   "outputs": [
    {
     "name": "stdout",
     "output_type": "stream",
     "text": [
      "Open ports: [135, 139]\n",
      "Number of closed ports: 9\n",
      "Number of ports scanned: 11\n"
     ]
    }
   ],
   "source": [
    "print(\"Open ports:\", ope_por)\n",
    "print(\"Number of closed ports:\",clo_por)\n",
    "print(\"Number of ports scanned:\",end_port-start_port+1)"
   ]
  },
  {
   "cell_type": "code",
   "execution_count": null,
   "metadata": {},
   "outputs": [],
   "source": []
  }
 ],
 "metadata": {
  "kernelspec": {
   "display_name": "Python 3",
   "language": "python",
   "name": "python3"
  },
  "language_info": {
   "codemirror_mode": {
    "name": "ipython",
    "version": 3
   },
   "file_extension": ".py",
   "mimetype": "text/x-python",
   "name": "python",
   "nbconvert_exporter": "python",
   "pygments_lexer": "ipython3",
   "version": "3.8.5"
  }
 },
 "nbformat": 4,
 "nbformat_minor": 4
}
